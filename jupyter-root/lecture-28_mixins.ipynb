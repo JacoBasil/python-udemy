{
 "cells": [
  {
   "cell_type": "markdown",
   "id": "d55bb43c-0203-4b60-b90a-3551ec085dd5",
   "metadata": {},
   "source": [
    "# **Mixins**"
   ]
  },
  {
   "cell_type": "code",
   "execution_count": 1,
   "id": "1f200747-be3e-464b-afb3-7a716483e044",
   "metadata": {},
   "outputs": [],
   "source": [
    "class Vehicle:\n",
    "    \n",
    "    def __init__(self, position):\n",
    "        self.position = position\n",
    "    \n",
    "    def travel(self, destination):\n",
    "        route = calculate_route(source=self.position, to=destination)\n",
    "        self.move_along(route)\n",
    "        \n",
    "    def calculate_route(self, source, to):\n",
    "        return 0\n",
    "    \n",
    "    def move_along(self, route):\n",
    "        print('moving')\n",
    "        \n",
    "        \n",
    "class Car(Vehicle):\n",
    "    pass\n",
    "\n",
    "class Airplane(Vehicle):\n",
    "    pass"
   ]
  },
  {
   "cell_type": "code",
   "execution_count": 4,
   "id": "47cffc52-f22e-4a0a-993a-603156fb134c",
   "metadata": {},
   "outputs": [],
   "source": [
    "class RadioMixin:\n",
    "    \n",
    "    def __init__(self):\n",
    "        self.radio = Radio()\n",
    "        \n",
    "    def turn_on(self, station):\n",
    "        \n",
    "        self.radio.set_station(station)\n",
    "        self.radio.play()\n",
    "        \n",
    "class Radio:\n",
    "    \n",
    "    def set_station(self, station):\n",
    "        self.station = station\n",
    "        \n",
    "    def play(self):\n",
    "        print(f\"Playing {self.station}\")\n",
    "        \n",
    "class Car(Vehicle, RadioMixin):\n",
    "    \n",
    "    def __init__(self):\n",
    "        Vehicle.__init__(self, (10, 20))\n",
    "        RadioMixin.__init__(self)"
   ]
  },
  {
   "cell_type": "code",
   "execution_count": 5,
   "id": "f49b3a45-8642-423b-b886-d90d61c60b4f",
   "metadata": {},
   "outputs": [
    {
     "name": "stdout",
     "output_type": "stream",
     "text": [
      "Playing Moscow FM\n"
     ]
    }
   ],
   "source": [
    "car = Car()\n",
    "car.turn_on(\"Moscow FM\")"
   ]
  },
  {
   "cell_type": "code",
   "execution_count": 6,
   "id": "b263e52c-67b3-4571-9e08-84d44ad6ee85",
   "metadata": {},
   "outputs": [],
   "source": [
    "class ToDictMixin(object):\n",
    "    def to_dict(self):\n",
    "        return self._traverse_dict(self.__dict__)\n",
    "    \n",
    "    def _traverse_dict(self, instance_dict):\n",
    "        output = {}\n",
    "        for key, value in instance_dict.items():\n",
    "            output[key] = self._traverse(key, value)\n",
    "        return output\n",
    "    \n",
    "    def _traverse(self, key, value):\n",
    "        if isinstance(value, ToDictMixin):\n",
    "            return value.to_dict()\n",
    "        elif isinstance(value, dict):\n",
    "            return self._traverse_dict(value)\n",
    "        elif isinstance(value, list):\n",
    "            return [self._traverse(key, i) for i in value]\n",
    "        elif hasattr(value, '__dict__'):\n",
    "            return self._traverse_dict(value.__dict__)\n",
    "        else:\n",
    "            return value"
   ]
  },
  {
   "cell_type": "code",
   "execution_count": 7,
   "id": "46c0f5f0-d6fd-4b1d-9796-124a8b103f56",
   "metadata": {},
   "outputs": [],
   "source": [
    "class BinaryTree(ToDictMixin):\n",
    "    \n",
    "    def __init__(self, value, left=None, right=None):\n",
    "        self.value = value\n",
    "        self.left = left\n",
    "        self.right = right\n",
    "        "
   ]
  },
  {
   "cell_type": "code",
   "execution_count": 8,
   "id": "ad04faea-a99b-43a9-aa73-af6723e9debc",
   "metadata": {},
   "outputs": [
    {
     "name": "stdout",
     "output_type": "stream",
     "text": [
      "{'value': 10, 'left': {'value': 7, 'left': None, 'right': {'value': 9, 'left': None, 'right': None}}, 'right': {'value': 13, 'left': {'value': 11, 'left': None, 'right': None}, 'right': None}}\n"
     ]
    }
   ],
   "source": [
    "tree = BinaryTree(10,\n",
    "                 left=BinaryTree(7, right=BinaryTree(9)),\n",
    "                 right=BinaryTree(13, left=BinaryTree(11)))\n",
    "\n",
    "print(tree.to_dict())"
   ]
  },
  {
   "cell_type": "code",
   "execution_count": null,
   "id": "da8c1cf6-b821-45cb-853c-c415f65aea85",
   "metadata": {},
   "outputs": [],
   "source": []
  }
 ],
 "metadata": {
  "kernelspec": {
   "display_name": "Python 3",
   "language": "python",
   "name": "python3"
  },
  "language_info": {
   "codemirror_mode": {
    "name": "ipython",
    "version": 3
   },
   "file_extension": ".py",
   "mimetype": "text/x-python",
   "name": "python",
   "nbconvert_exporter": "python",
   "pygments_lexer": "ipython3",
   "version": "3.8.8"
  }
 },
 "nbformat": 4,
 "nbformat_minor": 5
}
