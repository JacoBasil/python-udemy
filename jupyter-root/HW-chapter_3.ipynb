{
 "cells": [
  {
   "cell_type": "markdown",
   "metadata": {},
   "source": [
    "# Homework Chapter 3 "
   ]
  },
  {
   "cell_type": "markdown",
   "metadata": {},
   "source": [
    "## Cycles"
   ]
  },
  {
   "cell_type": "markdown",
   "metadata": {},
   "source": [
    "### 1. Вывести лесенкой символ звёздочки по кол-ву строк, заданных пользователем: запросить ввод у пользователя кол-ва строк, вывести звёздочки лесенкой."
   ]
  },
  {
   "cell_type": "code",
   "execution_count": null,
   "metadata": {},
   "outputs": [],
   "source": [
    "user_input = input('Write a natural number: ')\n",
    "num = int(user_input)\n",
    "out = ''\n",
    "if num > 0 :\n",
    "    for i in range(1, num+1):\n",
    "        out += ('*') \n",
    "        print(out)\n",
    "else:\n",
    "    print('Write correct number')\n",
    "        \n",
    "    "
   ]
  },
  {
   "cell_type": "markdown",
   "metadata": {},
   "source": [
    "### 2. Запросить у пользователя ввод числа. Построить цикл от 0 до введённого числа (включительно) и для чётных чисел вывести то, что они чётные, а для нечётных, что они нечётные. Пример вывода:\n",
    "0 is EVEN\n",
    "1 is ODD\n",
    "2 is EVEN \n",
    "и так далее..."
   ]
  },
  {
   "cell_type": "code",
   "execution_count": null,
   "metadata": {},
   "outputs": [],
   "source": [
    "user_input = input('Write a natural number: ')\n",
    "num = int(user_input)\n",
    "for i in range(1, num+1):\n",
    "    if i % 2 == 0:\n",
    "        print(f'{i} is even')\n",
    "    else:\n",
    "        print(f'{i} is odd')"
   ]
  },
  {
   "cell_type": "markdown",
   "metadata": {},
   "source": [
    "## Division by 3 and 5"
   ]
  },
  {
   "cell_type": "code",
   "execution_count": null,
   "metadata": {},
   "outputs": [],
   "source": [
    "limit = int(input('Write a natural number: '))\n",
    "arg_list = [i for i in range(limit+1) if i % 3 == 0 or i % 5 == 0]\n",
    "print(arg_list)\n",
    "print(sum(arg_list))"
   ]
  },
  {
   "cell_type": "markdown",
   "metadata": {},
   "source": [
    "## Joined list "
   ]
  },
  {
   "cell_type": "code",
   "execution_count": null,
   "metadata": {},
   "outputs": [],
   "source": [
    "num1 = int(input('Write the 1st natural number: '))\n",
    "num2 = int(input('Write the 2nd natural number: '))\n",
    "\n",
    "joined_list.clear()\n",
    "\n",
    "list1 = [l for l in range(num1 + 1)]\n",
    "list2 = [m for m in range(num2 + 1)]\n",
    "#print(list1)\n",
    "#print(list2)\n",
    "for i in list1:\n",
    "    if i % 2 != 0:\n",
    "        joined_list.append(i)\n",
    "for j in list2:\n",
    "    if j % 2 == 0:\n",
    "        joined_list.append(j)\n",
    "joined_list.sort()\n",
    "print(joined_list)"
   ]
  },
  {
   "cell_type": "markdown",
   "metadata": {},
   "source": [
    "## Cards sum"
   ]
  },
  {
   "cell_type": "code",
   "execution_count": null,
   "metadata": {},
   "outputs": [],
   "source": [
    "current_hand = [2,3,4,10,'Q',5]\n",
    "\n",
    "plus = [2,3,4,5,6]\n",
    "minus = [10, 'J', 'K', 'Q', 'A']\n",
    "zero = [7,8,9,0]\n",
    "\n",
    "cards_sum = 0\n",
    "for i in current_hand:\n",
    "    for j in plus:\n",
    "        if i == j:\n",
    "            cards_sum += 1\n",
    "    for k in minus:\n",
    "        if i == k:\n",
    "            cards_sum -= 1\n",
    "cards_sum"
   ]
  },
  {
   "cell_type": "markdown",
   "metadata": {},
   "source": [
    "#### У Ильи решение через словари и list_comprehension"
   ]
  },
  {
   "cell_type": "markdown",
   "metadata": {},
   "source": [
    "## Defining flash"
   ]
  },
  {
   "cell_type": "code",
   "execution_count": null,
   "metadata": {},
   "outputs": [],
   "source": [
    "table_cards = [\"A_S\", \"J_H\", \"7_D\", \"8_D\", \"10_D\"]\n",
    "hand_cards = [\"J_D\", \"3_D\"]\n",
    "overall_cards = table_cards + hand_cards\n",
    "\n",
    "#nominals = {'2', '3', '4', '5', '6', '7', '8', '9', '10', 'J', 'K', 'Q', 'A'}\n",
    "\n",
    "suits = dict(S=0, H=0, D=0, C=0)\n",
    "#card_suit = list() \n",
    "for m in overall_cards:\n",
    "    for k,v in suits.items():\n",
    "        if m.split('_')[1] == k:\n",
    "            suits[k] += 1 \n",
    "vals = sorted(suits.values())\n",
    "#print(vals)\n",
    "#print(type(vals))\n",
    "if vals[3] > 4:\n",
    "    print('Flush!')\n",
    "else:\n",
    "    print('No Flush!')    \n",
    "    \n",
    "#print(card_suit)\n",
    "#print(overall_cards)\n"
   ]
  },
  {
   "cell_type": "code",
   "execution_count": null,
   "metadata": {},
   "outputs": [],
   "source": [
    "number = int(input('Write a natural number: '))\n",
    "reversed_number = 0\n",
    "tmp_number = number\n",
    "\n",
    "while tmp_number > 0:\n",
    "    reversed_number = reversed_number *10 + tmp_number % 10\n",
    "    tmp_number = tmp_number //10\n",
    "if number == reversed_number:\n",
    "    print('Palindrome')\n",
    "else:\n",
    "    print('No palindrome')"
   ]
  },
  {
   "cell_type": "markdown",
   "metadata": {},
   "source": [
    "### Домашнее задание: угадай число\n",
    "Реализуйте одну классическую и достаточно простую игру: \"угадай число\".\n",
    "\n",
    "Компьютер загадывает число от 1 до 50 и даёт 6 попыток пользователю, чтобы тот смог угадать загаданное число. Когда пользователь вводит число, компьютер проверяет угадано ли число и если не угадано, то сообщает пользователю меньше ли или больше загаданое число. Если пользователь угадал - то сообщает о том, что число отгадано.\n",
    "\n",
    "Подсказка: для \"загадывания\" числа используйте модуль random: импортируйте его и для генерации (загадывания) числа вызовите метод random.randint(1, 50)."
   ]
  },
  {
   "cell_type": "code",
   "execution_count": null,
   "metadata": {},
   "outputs": [],
   "source": [
    "import random\n",
    "\n",
    "a = random.randint(1,50)\n",
    "for x in range(1,7):\n",
    "    number = int(input('Write a number between 1 and 50: '))\n",
    "    if number == a:\n",
    "        print(f\"Well Done! You've guessed in {x} tries!\")\n",
    "        break\n",
    "    elif a > number:\n",
    "        print(\"number is bigger\")\n",
    "        continue\n",
    "    elif a < number:\n",
    "        print(\"number is less\")\n",
    "        continue\n",
    "if number != a:\n",
    "    print(f'You lost! The actual number was {a}')"
   ]
  },
  {
   "cell_type": "markdown",
   "metadata": {},
   "source": [
    "### ДЗ \"Камень-ножницы-бумага\"\n",
    "Написать игру в \"камень-ножницы-бумага\" против компьютера.\n",
    "\n",
    "Запустить игру в бесконечном цикле. Запросить ввод от пользователя (R - камень, S - ножницы, P - бумага). Сгенерировать случайный выбор компьютера. Вывести выбор компьютера. Определить победителя, выведя соответствующую информацию. Спросить пользователя - хочет ли он повторить игру. Если хочет - повторить, не хочет - выйти из цикла."
   ]
  },
  {
   "cell_type": "code",
   "execution_count": 1,
   "metadata": {},
   "outputs": [
    {
     "name": "stdout",
     "output_type": "stream",
     "text": [
      "Let's play a game \"rock, scissors and paper\" \n",
      "Please, choose: R - Rock, S - scissor, P - paper: P\n",
      "Machine choice is P\n",
      "This is a draw!!!\n",
      "Wanna play next?\n",
      "y/n: D\n"
     ]
    }
   ],
   "source": [
    "import random\n",
    "choices = ['R', 'S', 'P']\n",
    "\n",
    "print(\"Let's play a game \\\"rock, scissors and paper\\\" \")\n",
    "game = True\n",
    "\n",
    "while game:\n",
    "    machine_choice = random.choice(choices)\n",
    "    human_choice = input('Please, choose: R - Rock, S - scissor, P - paper: ')\n",
    "    \n",
    "    if human_choice not in choices:\n",
    "        print('Write a correct LETTER!')\n",
    "        continue\n",
    "        \n",
    "    print('Machine choice is {}'.format(machine_choice))\n",
    "    \n",
    "    winning_cases = [('P', 'R'), ('S', 'P'), ('R', 'S')]\n",
    "    \n",
    "    if human_choice == machine_choice:\n",
    "        print('This is a draw!!!')\n",
    "    elif (human_choice, machine_choice) in winning_cases:\n",
    "        print('Congrats, you have won!!!')\n",
    "    else:\n",
    "        print('Sorry, computer have won!')\n",
    "    \n",
    "    print('Wanna play next?')    \n",
    "    game = input('y/n: ').lower() == 'y' \n",
    "        \n",
    "        "
   ]
  }
 ],
 "metadata": {
  "kernelspec": {
   "display_name": "Python 3",
   "language": "python",
   "name": "python3"
  },
  "language_info": {
   "codemirror_mode": {
    "name": "ipython",
    "version": 3
   },
   "file_extension": ".py",
   "mimetype": "text/x-python",
   "name": "python",
   "nbconvert_exporter": "python",
   "pygments_lexer": "ipython3",
   "version": "3.7.6"
  }
 },
 "nbformat": 4,
 "nbformat_minor": 4
}
