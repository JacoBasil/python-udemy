{
 "cells": [
  {
   "cell_type": "code",
   "execution_count": 3,
   "metadata": {},
   "outputs": [
    {
     "name": "stdout",
     "output_type": "stream",
     "text": [
      "How many cups of coffee do you need?3\n",
      "0\n"
     ]
    }
   ],
   "source": [
    "user_input = input('How many cups of coffee do you need?')\n",
    "cups = int(user_input)\n",
    "bonus = cups/6\n",
    "print(int(bonus))"
   ]
  },
  {
   "cell_type": "code",
   "execution_count": 1,
   "metadata": {},
   "outputs": [
    {
     "name": "stdout",
     "output_type": "stream",
     "text": [
      "write x and y coordinate of 1st point (devide by \",\"): 23,3 \n",
      "write x and y coordinate of 2nd point (devide by \",\"): 1, 55\n",
      "56.46\n"
     ]
    }
   ],
   "source": [
    "import math\n",
    "xy1_input = input('write x and y coordinate of 1st point (devide by \",\"): ')\n",
    "xy2_input = input('write x and y coordinate of 2nd point (devide by \",\"): ')\n",
    "xy1_split = xy1_input.split(',')\n",
    "xy2_split = xy2_input.split(',')\n",
    "x1 = int(xy1_split[0])\n",
    "y1 = int(xy1_split[1])\n",
    "x2 = int(xy2_split[0])\n",
    "y2 = int(xy2_split[1])\n",
    "print(round(math.sqrt((x1-x2)**2 + (y1-y2)**2),2))"
   ]
  },
  {
   "cell_type": "code",
   "execution_count": null,
   "metadata": {},
   "outputs": [],
   "source": []
  }
 ],
 "metadata": {
  "kernelspec": {
   "display_name": "Python 3",
   "language": "python",
   "name": "python3"
  },
  "language_info": {
   "codemirror_mode": {
    "name": "ipython",
    "version": 3
   },
   "file_extension": ".py",
   "mimetype": "text/x-python",
   "name": "python",
   "nbconvert_exporter": "python",
   "pygments_lexer": "ipython3",
   "version": "3.8.8"
  }
 },
 "nbformat": 4,
 "nbformat_minor": 4
}
