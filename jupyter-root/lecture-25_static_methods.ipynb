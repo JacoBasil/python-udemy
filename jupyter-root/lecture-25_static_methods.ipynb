{
 "cells": [
  {
   "cell_type": "markdown",
   "metadata": {},
   "source": [
    "## Статические методы"
   ]
  },
  {
   "cell_type": "code",
   "execution_count": 3,
   "metadata": {
    "ExecuteTime": {
     "end_time": "2020-11-02T22:52:52.368701Z",
     "start_time": "2020-11-02T22:52:52.364690Z"
    }
   },
   "outputs": [],
   "source": [
    "# Сидят внутри класса, но для вызова необязательно иметь инстанцию класса\n",
    "class StaticTest:\n",
    "    x = 1"
   ]
  },
  {
   "cell_type": "markdown",
   "metadata": {},
   "source": [
    "#### Статические аттрибуты можно вызывать как через инстанцию класса, как и название самого класса"
   ]
  },
  {
   "cell_type": "code",
   "execution_count": 4,
   "metadata": {
    "ExecuteTime": {
     "end_time": "2020-11-02T22:52:52.568345Z",
     "start_time": "2020-11-02T22:52:52.565362Z"
    }
   },
   "outputs": [],
   "source": [
    "t1 = StaticTest()"
   ]
  },
  {
   "cell_type": "code",
   "execution_count": 5,
   "metadata": {},
   "outputs": [
    {
     "name": "stdout",
     "output_type": "stream",
     "text": [
      "Via instance: 1\n",
      "Via class: 1\n"
     ]
    }
   ],
   "source": [
    "print(f'Via instance: {t1.x}')\n",
    "print(f'Via class: {StaticTest.x}')"
   ]
  },
  {
   "cell_type": "code",
   "execution_count": 9,
   "metadata": {},
   "outputs": [],
   "source": [
    "t1.x = 2"
   ]
  },
  {
   "cell_type": "markdown",
   "metadata": {},
   "source": [
    "#### Когда мы создаем инстанцию, создается экземпляр аттрибута, который отличный от того же аттрибута, который прописан на уровне класса. То есть значения t1.x и StaticTest.x будут вообще говоря разные"
   ]
  },
  {
   "cell_type": "code",
   "execution_count": 8,
   "metadata": {},
   "outputs": [
    {
     "name": "stdout",
     "output_type": "stream",
     "text": [
      "Via instance: 2\n",
      "Via class: 1\n"
     ]
    }
   ],
   "source": [
    "print(f'Via instance: {t1.x}')\n",
    "print(f'Via class: {StaticTest.x}')"
   ]
  },
  {
   "cell_type": "code",
   "execution_count": 10,
   "metadata": {},
   "outputs": [],
   "source": [
    "StaticTest.x = 3"
   ]
  },
  {
   "cell_type": "code",
   "execution_count": 11,
   "metadata": {},
   "outputs": [
    {
     "name": "stdout",
     "output_type": "stream",
     "text": [
      "Via instance: 2\n",
      "Via class: 3\n"
     ]
    }
   ],
   "source": [
    "print(f'Via instance: {t1.x}')\n",
    "print(f'Via class: {StaticTest.x}')"
   ]
  },
  {
   "cell_type": "markdown",
   "metadata": {},
   "source": [
    "#### Статитические методы. Иногда мы записываем классы, где нет состояний (аттрибутов). А есть некий набор методов содержащихся в классе, как в контейнере\n",
    "#### Python позволяет в классе иметь один единственный конструктор. Классы могут быть инстанцированы несколькими способами. И для этих способов не подходит один конструктор с кучей параметров, множеству из который даны значения по дефолту. Такие конструкторы становятся слишком перегруженными, непонятными, трудно читаемыми. Кроме того конструктор не имеет имени, мы просто пишем имя класса и передаем аргументы в скобках, иногда этого бывает не достаточно, чтобы писать самодокументированный код, то есть выразительный код, который выражает намерения. В таких случаях мы прибегаем к статическим методам в качестве конструкторов"
   ]
  },
  {
   "cell_type": "code",
   "execution_count": 14,
   "metadata": {},
   "outputs": [],
   "source": [
    "class Date:\n",
    "    def __init__(self, month, day, year):\n",
    "        self.month = month\n",
    "        self.day = day\n",
    "        self.year = year\n",
    "        \n",
    "    def display(self):\n",
    "        return f\"{self.month}-{self.day}-{self.year}\"\n",
    "    \n",
    "    @classmethod\n",
    "    # cls - информация о классе, через него можно обращаться к классу\n",
    "    def millenium_c(cls, month, day):\n",
    "        # Можно сказать таким образом мы вызываем конструктор класса\n",
    "        return cls(month, day, 2000)\n",
    "    \n",
    "    @staticmethod\n",
    "    def millenium_s(month,day):\n",
    "        # Здесь мы напрямую обращаемся к классу по имени\n",
    "        return Date(month, day, 2000)"
   ]
  },
  {
   "cell_type": "code",
   "execution_count": 13,
   "metadata": {},
   "outputs": [
    {
     "name": "stdout",
     "output_type": "stream",
     "text": [
      "6-9-2000\n",
      "6-9-2000\n"
     ]
    }
   ],
   "source": [
    "d1 = Date.millenium_c(6, 9)\n",
    "d2 = Date.millenium_s(6, 9)\n",
    "\n",
    "print(d1.display())\n",
    "print(d2.display())"
   ]
  },
  {
   "cell_type": "code",
   "execution_count": 18,
   "metadata": {},
   "outputs": [],
   "source": [
    "# Создадим класс наследник\n",
    "class DateTime(Date):\n",
    "    # Переопределим метод display\n",
    "    def display(self):\n",
    "        return f\"{self.month}-{self.day}-{self.year} - 00:00:00PM\""
   ]
  },
  {
   "cell_type": "code",
   "execution_count": 23,
   "metadata": {},
   "outputs": [
    {
     "name": "stdout",
     "output_type": "stream",
     "text": [
      "True\n",
      "False\n",
      "True\n",
      "10-10-1990 - 00:00:00PM\n",
      "10-10-2000\n",
      "10-10-2000 - 00:00:00PM\n"
     ]
    }
   ],
   "source": [
    "dt1 = DateTime(10,10,1990)\n",
    "dt2 = DateTime.millenium_s(10,10)\n",
    "dt3 = DateTime.millenium_c(10,10)\n",
    "\n",
    "print(isinstance(dt1, DateTime))\n",
    "print(isinstance(dt2, DateTime))\n",
    "print(isinstance(dt3, DateTime))\n",
    "\n",
    "print(dt1.display())\n",
    "print(dt2.display())\n",
    "print(dt3.display())"
   ]
  },
  {
   "cell_type": "markdown",
   "metadata": {},
   "source": [
    "#### dt1 мы по сути получаем инстанцию DateTime конструируюмую через конструктор Date. Получаем тип DateTime\n",
    "#### dt2 получаем инстанцию Date. Display() вызывается из базового класса\n",
    "#### dt3 получаем нужный вывод, так как в аргументы передается информация о классе cls. И в данном случае он вызывается на классе DateTime\n",
    "#### Когда мы используем методы для конструирования классов, лучше использовать декоратор @classmethod поскольку он несет дополнительную информацию о классе. Это так называемые factory методы"
   ]
  },
  {
   "cell_type": "markdown",
   "metadata": {},
   "source": [
    "### Приведем пример когда @staticmethod все же применяется"
   ]
  },
  {
   "cell_type": "code",
   "execution_count": 28,
   "metadata": {},
   "outputs": [],
   "source": [
    "class StrConverter:\n",
    "    @staticmethod\n",
    "    def to_str(bytes_or_str):\n",
    "        if isinstance(bytes_or_str, bytes):\n",
    "            value = bytes_or_str.decode('utf-8')\n",
    "        else:\n",
    "            value = bytes_or_str\n",
    "        return value\n",
    "    \n",
    "    @staticmethod\n",
    "    def to_bytes(bytes_or_str):\n",
    "        if isinstance(bytes_or_str, str):\n",
    "            value = bytes_or_str.encode('utf-8')\n",
    "        else:\n",
    "            value = bytes_or_str\n",
    "        return value\n",
    "    "
   ]
  },
  {
   "cell_type": "code",
   "execution_count": 29,
   "metadata": {},
   "outputs": [
    {
     "name": "stdout",
     "output_type": "stream",
     "text": [
      "A\n",
      "A\n"
     ]
    }
   ],
   "source": [
    "print(StrConverter.to_str('\\x41'))\n",
    "print(StrConverter.to_str('A'))"
   ]
  },
  {
   "cell_type": "code",
   "execution_count": 30,
   "metadata": {},
   "outputs": [
    {
     "name": "stdout",
     "output_type": "stream",
     "text": [
      "b'A'\n",
      "b'A'\n"
     ]
    }
   ],
   "source": [
    "print(StrConverter.to_bytes('\\x41'))\n",
    "print(StrConverter.to_bytes('A'))"
   ]
  },
  {
   "cell_type": "code",
   "execution_count": null,
   "metadata": {},
   "outputs": [],
   "source": []
  }
 ],
 "metadata": {
  "kernelspec": {
   "display_name": "Python 3",
   "language": "python",
   "name": "python3"
  },
  "language_info": {
   "codemirror_mode": {
    "name": "ipython",
    "version": 3
   },
   "file_extension": ".py",
   "mimetype": "text/x-python",
   "name": "python",
   "nbconvert_exporter": "python",
   "pygments_lexer": "ipython3",
   "version": "3.8.8"
  }
 },
 "nbformat": 4,
 "nbformat_minor": 4
}
