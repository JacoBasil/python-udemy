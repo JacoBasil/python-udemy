{
 "cells": [
  {
   "cell_type": "markdown",
   "id": "621a209b-f78a-479e-a609-49ff410f2bfb",
   "metadata": {},
   "source": [
    "## HW-1 ФИО"
   ]
  },
  {
   "cell_type": "code",
   "execution_count": 58,
   "id": "01401909-51c1-4b82-a13f-900f31ee05bd",
   "metadata": {},
   "outputs": [],
   "source": [
    "class Name():\n",
    "    \n",
    "    def __init__(self, first_name, last_name):\n",
    "        self.first_name = first_name[0].upper() + first_name[1:].lower()\n",
    "        self.last_name = last_name[0].upper() + last_name[1:].lower()\n",
    "        self.initials = first_name[0].upper() + '.' + last_name[0].upper()\n",
    "        self.full_name = self.first_name + ' ' + self.last_name\n"
   ]
  },
  {
   "cell_type": "markdown",
   "id": "7da96e97-0bec-467c-b9f5-703020ce4f71",
   "metadata": {},
   "source": [
    "Можно было использовать функции  lower().capitalize() или же функцию title()"
   ]
  },
  {
   "cell_type": "code",
   "execution_count": 46,
   "id": "f04e18cc-4c75-4bd1-b3b9-4c9859d7f60c",
   "metadata": {},
   "outputs": [],
   "source": [
    "c = Name('jOhN', 'teRRy')"
   ]
  },
  {
   "cell_type": "code",
   "execution_count": 47,
   "id": "3065d4d3-9a3d-48f0-92c6-821cc2c26753",
   "metadata": {},
   "outputs": [
    {
     "data": {
      "text/plain": [
       "'John'"
      ]
     },
     "execution_count": 47,
     "metadata": {},
     "output_type": "execute_result"
    }
   ],
   "source": [
    "c.first_name"
   ]
  },
  {
   "cell_type": "code",
   "execution_count": 48,
   "id": "c87ac54d-d7eb-4024-a418-b16ff059887e",
   "metadata": {},
   "outputs": [
    {
     "data": {
      "text/plain": [
       "'J.T'"
      ]
     },
     "execution_count": 48,
     "metadata": {},
     "output_type": "execute_result"
    }
   ],
   "source": [
    "c.initials"
   ]
  },
  {
   "cell_type": "code",
   "execution_count": 49,
   "id": "b9babc6c-253e-48df-991a-1a4287056934",
   "metadata": {},
   "outputs": [
    {
     "data": {
      "text/plain": [
       "'Terry'"
      ]
     },
     "execution_count": 49,
     "metadata": {},
     "output_type": "execute_result"
    }
   ],
   "source": [
    "c.last_name"
   ]
  },
  {
   "cell_type": "code",
   "execution_count": 50,
   "id": "714b5162-f2f8-4b15-9d6b-67dfc08a1265",
   "metadata": {},
   "outputs": [
    {
     "data": {
      "text/plain": [
       "'John Terry'"
      ]
     },
     "execution_count": 50,
     "metadata": {},
     "output_type": "execute_result"
    }
   ],
   "source": [
    "c.full_name"
   ]
  },
  {
   "cell_type": "markdown",
   "id": "b6044a62-a112-426d-b30e-b059cd63c490",
   "metadata": {},
   "source": [
    "## HW-2 class calculator"
   ]
  },
  {
   "cell_type": "code",
   "execution_count": 36,
   "id": "e5cbb688-96b0-4975-a100-e812c5ec2b8c",
   "metadata": {},
   "outputs": [],
   "source": [
    "class Calculator():\n",
    "    def __init__(self):\n",
    "        pass\n",
    "    \n",
    "    def add(self, a, b):\n",
    "        return a + b\n",
    "    \n",
    "    def subtract(self, a, b):\n",
    "        return a - b\n",
    "    \n",
    "    def multiply(self, a, b):\n",
    "        return a * b\n",
    "    \n",
    "    def divide(self, a, b):\n",
    "        return a / b"
   ]
  },
  {
   "cell_type": "code",
   "execution_count": 32,
   "id": "3e4c3994-7af5-4fe2-9a79-db529fdc9582",
   "metadata": {},
   "outputs": [],
   "source": [
    "c = Calculator()"
   ]
  },
  {
   "cell_type": "code",
   "execution_count": 33,
   "id": "6912dfde-f9b2-4f05-96e3-58da2eb90f21",
   "metadata": {},
   "outputs": [
    {
     "data": {
      "text/plain": [
       "8"
      ]
     },
     "execution_count": 33,
     "metadata": {},
     "output_type": "execute_result"
    }
   ],
   "source": [
    "c.add(5,3)"
   ]
  },
  {
   "cell_type": "markdown",
   "id": "d0bfeb26-c7e2-444e-b205-738e1173e687",
   "metadata": {},
   "source": [
    "## HW-3 parsing an employee"
   ]
  },
  {
   "cell_type": "code",
   "execution_count": 59,
   "id": "cec878ea-5238-41a7-ab27-a9e9da3f94b4",
   "metadata": {},
   "outputs": [],
   "source": [
    "class Employee():\n",
    "    \n",
    "    def __init__(self, first_name, last_name, salary):\n",
    "        self.first_name = first_name\n",
    "        self.last_name = last_name\n",
    "        self.salary = salary\n",
    "    \n",
    "    @classmethod\n",
    "    def from_string(cls, string):\n",
    "        data = string.split('-')\n",
    "        return cls(data[0], data[1], int(data[2])\n",
    "        "
   ]
  },
  {
   "cell_type": "code",
   "execution_count": 60,
   "id": "2bb9a690-a2ad-4419-96e1-d6b29dfd9033",
   "metadata": {},
   "outputs": [],
   "source": [
    "emp1 = Employee('John', 'Smith', 50000)"
   ]
  },
  {
   "cell_type": "code",
   "execution_count": 61,
   "id": "35441a18-8872-40a4-af27-f97db9a028c2",
   "metadata": {},
   "outputs": [
    {
     "data": {
      "text/plain": [
       "'John'"
      ]
     },
     "execution_count": 61,
     "metadata": {},
     "output_type": "execute_result"
    }
   ],
   "source": [
    "emp1.first_name"
   ]
  },
  {
   "cell_type": "code",
   "execution_count": 62,
   "id": "13635a4c-b3b5-4496-8d28-9f51481f29cf",
   "metadata": {},
   "outputs": [],
   "source": [
    "emp2 = Employee.from_string('sara-connor-90000')"
   ]
  },
  {
   "cell_type": "code",
   "execution_count": 63,
   "id": "f4dbaef2-0de9-4158-a08b-d0c0eb0059d3",
   "metadata": {},
   "outputs": [
    {
     "data": {
      "text/plain": [
       "'sara'"
      ]
     },
     "execution_count": 63,
     "metadata": {},
     "output_type": "execute_result"
    }
   ],
   "source": [
    "emp2.first_name"
   ]
  },
  {
   "cell_type": "markdown",
   "id": "841746e9-85b6-4e6d-b4ab-2ac7e797621e",
   "metadata": {},
   "source": [
    "## HW-4 Pizza"
   ]
  },
  {
   "cell_type": "code",
   "execution_count": 64,
   "id": "52ea1660-39ea-4487-bf74-b206fead33e1",
   "metadata": {},
   "outputs": [
    {
     "ename": "SyntaxError",
     "evalue": "unexpected EOF while parsing (<ipython-input-64-263566eb0b0b>, line 2)",
     "output_type": "error",
     "traceback": [
      "\u001b[1;36m  File \u001b[1;32m\"<ipython-input-64-263566eb0b0b>\"\u001b[1;36m, line \u001b[1;32m2\u001b[0m\n\u001b[1;33m    \u001b[0m\n\u001b[1;37m    ^\u001b[0m\n\u001b[1;31mSyntaxError\u001b[0m\u001b[1;31m:\u001b[0m unexpected EOF while parsing\n"
     ]
    }
   ],
   "source": [
    "class Pizza():\n",
    "    def __init__(self, )\n",
    "    "
   ]
  },
  {
   "cell_type": "code",
   "execution_count": null,
   "id": "e1f05150-610e-47d8-9c70-899c3e5342b2",
   "metadata": {},
   "outputs": [],
   "source": []
  }
 ],
 "metadata": {
  "kernelspec": {
   "display_name": "Python 3",
   "language": "python",
   "name": "python3"
  },
  "language_info": {
   "codemirror_mode": {
    "name": "ipython",
    "version": 3
   },
   "file_extension": ".py",
   "mimetype": "text/x-python",
   "name": "python",
   "nbconvert_exporter": "python",
   "pygments_lexer": "ipython3",
   "version": "3.8.8"
  }
 },
 "nbformat": 4,
 "nbformat_minor": 5
}
