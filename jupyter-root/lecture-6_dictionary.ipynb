{
 "cells": [
  {
   "cell_type": "code",
   "execution_count": 1,
   "metadata": {},
   "outputs": [
    {
     "data": {
      "text/plain": [
       "{'Carlsen': 2842,\n",
       " 'Caruana': 2822,\n",
       " 'Mamedyarov': 2801,\n",
       " 'Ding': 2797,\n",
       " 'Giri': 2780}"
      ]
     },
     "execution_count": 1,
     "metadata": {},
     "output_type": "execute_result"
    }
   ],
   "source": [
    "players =   {\n",
    "                'Carlsen' : 2842,\n",
    "                'Caruana' : 2822,\n",
    "                'Mamedyarov' : 2801,\n",
    "                'Ding' : 2797,\n",
    "                'Giri' : 2780\n",
    "            }\n",
    "players"
   ]
  },
  {
   "cell_type": "code",
   "execution_count": 2,
   "metadata": {},
   "outputs": [
    {
     "data": {
      "text/plain": [
       "{'Carlsen': 2842,\n",
       " 'Caruana': 2822,\n",
       " 'Mamedyarov': 2801,\n",
       " 'Ding': 2797,\n",
       " 'Giri': 2780}"
      ]
     },
     "execution_count": 2,
     "metadata": {},
     "output_type": "execute_result"
    }
   ],
   "source": [
    "chess_players = dict(Carlsen=2842, Caruana=2822, Mamedyarov=2801, Ding=2797, Giri=2780)\n",
    "chess_players"
   ]
  },
  {
   "cell_type": "code",
   "execution_count": 3,
   "metadata": {},
   "outputs": [
    {
     "name": "stdout",
     "output_type": "stream",
     "text": [
      "Top chess player's rating is 2842\n"
     ]
    }
   ],
   "source": [
    "#obtain value using indexing by key\n",
    "top1 = players['Carlsen']\n",
    "print(f\"Top chess player's rating is {top1}\")"
   ]
  },
  {
   "cell_type": "code",
   "execution_count": 4,
   "metadata": {},
   "outputs": [
    {
     "data": {
      "text/plain": [
       "2842"
      ]
     },
     "execution_count": 4,
     "metadata": {},
     "output_type": "execute_result"
    }
   ],
   "source": [
    "#another way, use method \"get\"\n",
    "players.get('Carlsen')"
   ]
  },
  {
   "cell_type": "code",
   "execution_count": 6,
   "metadata": {},
   "outputs": [
    {
     "data": {
      "text/plain": [
       "{'Carlsen': 2842,\n",
       " 'Caruana': 2822,\n",
       " 'Mamedyarov': 2801,\n",
       " 'Ding': 2797,\n",
       " 'Giri': 2780,\n",
       " 'So': 2780}"
      ]
     },
     "execution_count": 6,
     "metadata": {},
     "output_type": "execute_result"
    }
   ],
   "source": [
    "#Appending a new element at the end\n",
    "players['So'] = 2780\n",
    "players"
   ]
  },
  {
   "cell_type": "code",
   "execution_count": 7,
   "metadata": {},
   "outputs": [
    {
     "data": {
      "text/plain": [
       "{'Carlsen': 2842,\n",
       " 'Caruana': 2822,\n",
       " 'Mamedyarov': 2801,\n",
       " 'Ding': 2797,\n",
       " 'Giri': 2780,\n",
       " 'So': 2781}"
      ]
     },
     "execution_count": 7,
     "metadata": {},
     "output_type": "execute_result"
    }
   ],
   "source": [
    "#changing a value of element\n",
    "players['So']  = 2781\n",
    "players"
   ]
  },
  {
   "cell_type": "code",
   "execution_count": 8,
   "metadata": {},
   "outputs": [
    {
     "data": {
      "text/plain": [
       "{'Carlsen': 2842,\n",
       " 'Caruana': 2822,\n",
       " 'Mamedyarov': 2801,\n",
       " 'Ding': 2797,\n",
       " 'Giri': 2780}"
      ]
     },
     "execution_count": 8,
     "metadata": {},
     "output_type": "execute_result"
    }
   ],
   "source": [
    "#deleting an element\n",
    "del players['So']\n",
    "players"
   ]
  },
  {
   "cell_type": "code",
   "execution_count": 9,
   "metadata": {},
   "outputs": [
    {
     "name": "stdout",
     "output_type": "stream",
     "text": [
      "<class 'dict_keys'>\n",
      "dict_keys(['Carlsen', 'Caruana', 'Mamedyarov', 'Ding', 'Giri'])\n"
     ]
    }
   ],
   "source": [
    "#Keys and its type\n",
    "keys = players.keys()\n",
    "print(type(keys))\n",
    "print(keys)"
   ]
  },
  {
   "cell_type": "code",
   "execution_count": 11,
   "metadata": {},
   "outputs": [
    {
     "name": "stdout",
     "output_type": "stream",
     "text": [
      "<class 'list'>\n",
      "['Carlsen', 'Caruana', 'Mamedyarov', 'Ding', 'Giri']\n"
     ]
    }
   ],
   "source": [
    "#List of keys\n",
    "l = list(players.keys())\n",
    "print(type(l))\n",
    "print(l)"
   ]
  },
  {
   "cell_type": "code",
   "execution_count": 12,
   "metadata": {},
   "outputs": [
    {
     "data": {
      "text/plain": [
       "['Carlsen', 'Caruana', 'Ding', 'Giri', 'Mamedyarov']"
      ]
     },
     "execution_count": 12,
     "metadata": {},
     "output_type": "execute_result"
    }
   ],
   "source": [
    "#Sorted list of keys\n",
    "sorted(players.keys())"
   ]
  },
  {
   "cell_type": "code",
   "execution_count": 13,
   "metadata": {},
   "outputs": [
    {
     "name": "stdout",
     "output_type": "stream",
     "text": [
      "True\n",
      "True\n"
     ]
    }
   ],
   "source": [
    "#Element presense check\n",
    "print('Carlsen' in players)\n",
    "print('Kramnik' not in players)"
   ]
  },
  {
   "cell_type": "code",
   "execution_count": 14,
   "metadata": {},
   "outputs": [
    {
     "name": "stdout",
     "output_type": "stream",
     "text": [
      "<class 'dict_values'>\n",
      "dict_values([2842, 2822, 2801, 2797, 2780])\n"
     ]
    }
   ],
   "source": [
    "#values and its type\n",
    "vals = players.values()\n",
    "print(type(vals))\n",
    "print(vals)"
   ]
  },
  {
   "cell_type": "code",
   "execution_count": 16,
   "metadata": {},
   "outputs": [
    {
     "name": "stdout",
     "output_type": "stream",
     "text": [
      "<class 'list'>\n",
      "[2842, 2822, 2801, 2797, 2780]\n"
     ]
    }
   ],
   "source": [
    "#List of values\n",
    "vals = list(players.values())\n",
    "print(type(vals))\n",
    "print(vals)"
   ]
  },
  {
   "cell_type": "code",
   "execution_count": 17,
   "metadata": {},
   "outputs": [
    {
     "data": {
      "text/plain": [
       "[2780, 2797, 2801, 2822, 2842]"
      ]
     },
     "execution_count": 17,
     "metadata": {},
     "output_type": "execute_result"
    }
   ],
   "source": [
    "#Sorted list of values\n",
    "sorted(players.values())"
   ]
  },
  {
   "cell_type": "code",
   "execution_count": 18,
   "metadata": {},
   "outputs": [
    {
     "name": "stdout",
     "output_type": "stream",
     "text": [
      "{'Carlsen': 2842, 'Caruana': 2822, 'Mamedyarov': 2801, 'Ding': 2797, 'Giri': 2780}\n"
     ]
    }
   ],
   "source": [
    "#Shallow copy of dict\n",
    "players_copy = players.copy()\n",
    "print(players_copy)"
   ]
  },
  {
   "cell_type": "code",
   "execution_count": 19,
   "metadata": {},
   "outputs": [
    {
     "name": "stdout",
     "output_type": "stream",
     "text": [
      "Carlsen 2842\n",
      "Caruana 2822\n",
      "Mamedyarov 2801\n",
      "Ding 2797\n",
      "Giri 2780\n"
     ]
    }
   ],
   "source": [
    "#циклы для словарей\n",
    "for k, v in players.items():\n",
    "    print(k, v)"
   ]
  },
  {
   "cell_type": "code",
   "execution_count": 20,
   "metadata": {},
   "outputs": [
    {
     "name": "stdout",
     "output_type": "stream",
     "text": [
      "<class 'dict_items'>\n"
     ]
    }
   ],
   "source": [
    "#type of items\n",
    "items = players.items()\n",
    "print(type(items))"
   ]
  },
  {
   "cell_type": "code",
   "execution_count": 21,
   "metadata": {},
   "outputs": [
    {
     "name": "stdout",
     "output_type": "stream",
     "text": [
      "{'Carlsen': 2842, 'Caruana': 2822, 'Mamedyarov': 2801, 'Ding': 2797}\n"
     ]
    }
   ],
   "source": [
    "#deleting the element with following key\n",
    "players.pop('Giri')\n",
    "print(players)"
   ]
  },
  {
   "cell_type": "code",
   "execution_count": 22,
   "metadata": {},
   "outputs": [
    {
     "name": "stdout",
     "output_type": "stream",
     "text": [
      "('Ding', 2797)\n",
      "{'Carlsen': 2842, 'Caruana': 2822, 'Mamedyarov': 2801}\n"
     ]
    }
   ],
   "source": [
    "#deleting element from the end\n",
    "print(players.popitem())\n",
    "print(players)"
   ]
  },
  {
   "cell_type": "code",
   "execution_count": 23,
   "metadata": {},
   "outputs": [
    {
     "data": {
      "text/plain": [
       "3"
      ]
     },
     "execution_count": 23,
     "metadata": {},
     "output_type": "execute_result"
    }
   ],
   "source": [
    "#length of dictionary\n",
    "len(players)"
   ]
  },
  {
   "cell_type": "code",
   "execution_count": 25,
   "metadata": {},
   "outputs": [
    {
     "data": {
      "text/plain": [
       "{'Carlsen': 2842, 'Caruana': 2822, 'Mamedyarov': 2801, 'Karjakin': None}"
      ]
     },
     "execution_count": 25,
     "metadata": {},
     "output_type": "execute_result"
    }
   ],
   "source": [
    "#Adding an element without value. Keys should be unique\n",
    "players.setdefault('Karjakin')\n",
    "players"
   ]
  },
  {
   "cell_type": "code",
   "execution_count": null,
   "metadata": {},
   "outputs": [],
   "source": []
  }
 ],
 "metadata": {
  "kernelspec": {
   "display_name": "Python 3",
   "language": "python",
   "name": "python3"
  },
  "language_info": {
   "codemirror_mode": {
    "name": "ipython",
    "version": 3
   },
   "file_extension": ".py",
   "mimetype": "text/x-python",
   "name": "python",
   "nbconvert_exporter": "python",
   "pygments_lexer": "ipython3",
   "version": "3.7.6"
  }
 },
 "nbformat": 4,
 "nbformat_minor": 4
}
