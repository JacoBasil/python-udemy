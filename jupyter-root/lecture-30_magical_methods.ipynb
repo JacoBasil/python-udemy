{
 "cells": [
  {
   "cell_type": "markdown",
   "id": "69c5dd5e-79ea-43b4-bd17-473c9bff99df",
   "metadata": {},
   "source": [
    "# Or dunder methods"
   ]
  },
  {
   "cell_type": "code",
   "execution_count": 1,
   "id": "725911ce-22f1-4153-89bf-06278a65c707",
   "metadata": {},
   "outputs": [],
   "source": [
    "class Point():\n",
    "    def __init__(self, x, y):\n",
    "        self.x = x \n",
    "        self.y = y"
   ]
  },
  {
   "cell_type": "code",
   "execution_count": 2,
   "id": "1abf4ec1-13d2-4f5f-8a2f-3aabb7df9320",
   "metadata": {},
   "outputs": [
    {
     "name": "stdout",
     "output_type": "stream",
     "text": [
      "<__main__.Point object at 0x000002480546EBE0>\n"
     ]
    }
   ],
   "source": [
    "p = Point(3,4)\n",
    "print(p)"
   ]
  },
  {
   "cell_type": "code",
   "execution_count": 6,
   "id": "645129ab-debe-4736-b07c-8bad08123274",
   "metadata": {},
   "outputs": [],
   "source": [
    "class Point():\n",
    "    def __init__(self, x, y):\n",
    "        self.x = x \n",
    "        self.y = y\n",
    "        \n",
    "    def __str__(self):\n",
    "        return f\"Point x={self.x} y={self.y}\""
   ]
  },
  {
   "cell_type": "code",
   "execution_count": 7,
   "id": "677a6c53-b877-4f3e-bf5b-203a4be9fa86",
   "metadata": {},
   "outputs": [
    {
     "name": "stdout",
     "output_type": "stream",
     "text": [
      "Point x=3 y=4\n"
     ]
    }
   ],
   "source": [
    "p = Point(3,4)\n",
    "print(p)"
   ]
  },
  {
   "cell_type": "code",
   "execution_count": 19,
   "id": "9ffcef6e-a255-4e28-a391-9cd9f5ad98f9",
   "metadata": {},
   "outputs": [],
   "source": [
    "class Road():\n",
    "    def __init__(self, length):\n",
    "        self.length = length\n",
    "        \n",
    "    def __len__(self):\n",
    "        return self.length\n",
    "    \n",
    "    def __str__(self):\n",
    "        return f\"A road of length:{self.length}\"\n",
    "    \n",
    "    def __del__(self):\n",
    "        print(f'The road has been destroyed')"
   ]
  },
  {
   "cell_type": "code",
   "execution_count": 20,
   "id": "6feded1f-efaa-49a8-b4e0-b516f04c066a",
   "metadata": {},
   "outputs": [],
   "source": [
    "r = Road(100)"
   ]
  },
  {
   "cell_type": "code",
   "execution_count": 21,
   "id": "4b51e162-892a-4c67-b224-4f9c0b40cc66",
   "metadata": {},
   "outputs": [
    {
     "data": {
      "text/plain": [
       "100"
      ]
     },
     "execution_count": 21,
     "metadata": {},
     "output_type": "execute_result"
    }
   ],
   "source": [
    "len(r)"
   ]
  },
  {
   "cell_type": "code",
   "execution_count": 22,
   "id": "ab315abe-9b9d-4bf6-99f6-b2b1fbd95a66",
   "metadata": {},
   "outputs": [
    {
     "name": "stdout",
     "output_type": "stream",
     "text": [
      "A road of length:100\n"
     ]
    }
   ],
   "source": [
    "print(r)"
   ]
  },
  {
   "cell_type": "code",
   "execution_count": 23,
   "id": "9c3fdd76-f8da-4008-8bd9-69d5a6df1119",
   "metadata": {},
   "outputs": [
    {
     "name": "stdout",
     "output_type": "stream",
     "text": [
      "The road has been destroyed\n"
     ]
    }
   ],
   "source": [
    "del r"
   ]
  }
 ],
 "metadata": {
  "kernelspec": {
   "display_name": "Python 3",
   "language": "python",
   "name": "python3"
  },
  "language_info": {
   "codemirror_mode": {
    "name": "ipython",
    "version": 3
   },
   "file_extension": ".py",
   "mimetype": "text/x-python",
   "name": "python",
   "nbconvert_exporter": "python",
   "pygments_lexer": "ipython3",
   "version": "3.8.8"
  }
 },
 "nbformat": 4,
 "nbformat_minor": 5
}
