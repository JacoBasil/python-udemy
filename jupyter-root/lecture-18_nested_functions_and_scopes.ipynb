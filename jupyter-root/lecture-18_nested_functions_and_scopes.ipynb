{
 "cells": [
  {
   "cell_type": "markdown",
   "metadata": {},
   "source": [
    "### Правило LEGB\n",
    "#### Пространства имен. Области видимости\n",
    "У переменных в Python есть область видимости. В зависимости от места в коде, где переменная была определена, определяется и область видимости, то есть, где переменная будет доступна.\n",
    "\n",
    "При использовании имен переменных в программе, Python каждый раз ищет, создает или изменяет эти имена в соответствующем пространстве имен. Пространство имен, которое доступно в каждый момент, зависит от области, в которой находится код.\n",
    "\n",
    "У Python есть правило LEGB, которым он пользуется при поиске переменных.\n",
    "\n",
    "Например, если внутри функции выполняется обращение к имени переменной, Python ищет переменную в таком порядке по областям видимости (до первого совпадения):\n",
    "\n",
    "##### L (local) - в локальной (внутри функции)\n",
    "##### E (enclosing) - в локальной области объемлющих функций (это те функции, внутри которых находится наша функция)\n",
    "##### G (global) - в глобальной (в скрипте)\n",
    "##### B (built-in) - во встроенной (зарезервированные значения Python)\n",
    "##### Соответственно, есть локальные и глобальные переменные:\n",
    "\n",
    "локальные переменные:\n",
    "переменные, которые определены внутри функции\n",
    "эти переменные становятся недоступными после выхода из функции\n",
    "глобальные переменные:\n",
    "переменные, которые определены вне функции\n",
    "эти переменные „глобальны“ только в пределах модуля\n",
    "например, чтобы они были доступны в другом модуле, их надо импортировать"
   ]
  },
  {
   "cell_type": "code",
   "execution_count": 1,
   "metadata": {},
   "outputs": [],
   "source": [
    "greeting = \"Hello from the global scope\"\n",
    "\n",
    "def greet():\n",
    "    greeting = \"Hello from the enclosing scope\"\n",
    "    \n",
    "    #Nested function\n",
    "    def nested():\n",
    "        greeting = \"Hello from the local scope\"\n",
    "        print(greeting)\n",
    "    nested()"
   ]
  },
  {
   "cell_type": "code",
   "execution_count": 2,
   "metadata": {},
   "outputs": [
    {
     "name": "stdout",
     "output_type": "stream",
     "text": [
      "Hello from the local scope\n",
      "Hello from the global scope\n"
     ]
    }
   ],
   "source": [
    "greet()\n",
    "print(greeting)"
   ]
  },
  {
   "cell_type": "code",
   "execution_count": 3,
   "metadata": {},
   "outputs": [],
   "source": [
    "greeting = \"Hello from the global scope\"\n",
    "def greet(greeting):\n",
    "    print(f\"Greet in func: {greeting}\")\n",
    "    \n",
    "    greeting = \"Hello from the enclosing scope\"\n",
    "    \n",
    "    print(f\"Greet in func: {greeting}\")\n",
    "    \n",
    "    def nested():\n",
    "        greeting = \"Hello from the local scope\"\n",
    "        print(greeting)\n",
    "    nested()"
   ]
  },
  {
   "cell_type": "code",
   "execution_count": 4,
   "metadata": {},
   "outputs": [
    {
     "name": "stdout",
     "output_type": "stream",
     "text": [
      "Greet in func: test\n",
      "Greet in func: Hello from the enclosing scope\n",
      "Hello from the local scope\n",
      "Hello from the global scope\n"
     ]
    }
   ],
   "source": [
    "greet(\"test\")\n",
    "print(greeting)"
   ]
  },
  {
   "cell_type": "code",
   "execution_count": 8,
   "metadata": {},
   "outputs": [],
   "source": [
    "#Избегайте изменять глобальные переменные внутри функции\n",
    "\n",
    "greeting = \"Hello from the global scope\"\n",
    "def greet():\n",
    "    global greeting\n",
    "    print(f\"Greet in func: {greeting}\")\n",
    "    \n",
    "    #Переназначение глобальнгого значения greeting \n",
    "    greeting = \"Hello from the enclosing scope\"\n",
    "    \n",
    "    print(f\"Greet in func: {greeting}\")\n",
    "    \n",
    "    def nested():\n",
    "        greeting = \"Hello from the local scope\"\n",
    "        print(greeting)\n",
    "    nested()"
   ]
  },
  {
   "cell_type": "code",
   "execution_count": 9,
   "metadata": {},
   "outputs": [
    {
     "name": "stdout",
     "output_type": "stream",
     "text": [
      "Greet in func: Hello from the global scope\n",
      "Greet in func: Hello from the enclosing scope\n",
      "Hello from the local scope\n",
      "Hello from the enclosing scope\n"
     ]
    }
   ],
   "source": [
    "greet()\n",
    "print(greeting)"
   ]
  }
 ],
 "metadata": {
  "celltoolbar": "Raw Cell Format",
  "kernelspec": {
   "display_name": "Python 3",
   "language": "python",
   "name": "python3"
  },
  "language_info": {
   "codemirror_mode": {
    "name": "ipython",
    "version": 3
   },
   "file_extension": ".py",
   "mimetype": "text/x-python",
   "name": "python",
   "nbconvert_exporter": "python",
   "pygments_lexer": "ipython3",
   "version": "3.7.6"
  }
 },
 "nbformat": 4,
 "nbformat_minor": 4
}
