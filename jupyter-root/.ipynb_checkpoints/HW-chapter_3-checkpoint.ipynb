{
 "cells": [
  {
   "cell_type": "markdown",
   "metadata": {},
   "source": [
    "# Homework Chapter 3 "
   ]
  },
  {
   "cell_type": "markdown",
   "metadata": {},
   "source": [
    "## Cycles"
   ]
  },
  {
   "cell_type": "markdown",
   "metadata": {},
   "source": [
    "### 1. Вывести лесенкой символ звёздочки по кол-ву строк, заданных пользователем: запросить ввод у пользователя кол-ва строк, вывести звёздочки лесенкой."
   ]
  },
  {
   "cell_type": "code",
   "execution_count": 12,
   "metadata": {},
   "outputs": [
    {
     "name": "stdout",
     "output_type": "stream",
     "text": [
      "Write natural number: 6\n",
      "*\n",
      "**\n",
      "***\n",
      "****\n",
      "*****\n",
      "******\n"
     ]
    }
   ],
   "source": [
    "user_input = input('Write natural number: ')\n",
    "num = int(user_input)\n",
    "out = ''\n",
    "if num > 0 :\n",
    "    for i in range(1, num+1):\n",
    "        out += ('*') \n",
    "        print(out)\n",
    "else:\n",
    "    print('Write correct number')\n",
    "        \n",
    "    "
   ]
  },
  {
   "cell_type": "markdown",
   "metadata": {},
   "source": [
    "### 2. Запросить у пользователя ввод числа. Построить цикл от 0 до введённого числа (включительно) и для чётных чисел вывести то, что они чётные, а для нечётных, что они нечётные. Пример вывода:\n",
    "0 is EVEN\n",
    "1 is ODD\n",
    "2 is EVEN \n",
    "и так далее..."
   ]
  },
  {
   "cell_type": "code",
   "execution_count": 24,
   "metadata": {},
   "outputs": [
    {
     "name": "stdout",
     "output_type": "stream",
     "text": [
      "Write natural number: 5\n",
      "1 is odd\n",
      "2 is even\n",
      "3 is odd\n",
      "4 is even\n",
      "5 is odd\n"
     ]
    }
   ],
   "source": [
    "user_input = input('Write natural number: ')\n",
    "num = int(user_input)\n",
    "for i in range(1, num+1):\n",
    "    if i % 2 == 0:\n",
    "        print(f'{i} is even')\n",
    "    else:\n",
    "        print(f'{i} is odd')"
   ]
  },
  {
   "cell_type": "markdown",
   "metadata": {},
   "source": [
    "## Division by 3 and 5"
   ]
  },
  {
   "cell_type": "code",
   "execution_count": 61,
   "metadata": {},
   "outputs": [
    {
     "name": "stdout",
     "output_type": "stream",
     "text": [
      "Write natural number: 10\n",
      "[0, 3, 5, 6, 9, 10]\n",
      "33\n"
     ]
    }
   ],
   "source": [
    "limit = int(input('Write natural number: '))\n",
    "arg_list = [i for i in range(limit+1) if i % 3 == 0 or i % 5 == 0]\n",
    "print(arg_list)\n",
    "print(sum(arg_list))"
   ]
  },
  {
   "cell_type": "markdown",
   "metadata": {},
   "source": [
    "## Joined list "
   ]
  },
  {
   "cell_type": "code",
   "execution_count": 60,
   "metadata": {},
   "outputs": [
    {
     "name": "stdout",
     "output_type": "stream",
     "text": [
      "Write the 1st natural number: 15\n",
      "Write the 2nd natural number: 10\n",
      "[1, 2, 3, 4, 5, 6, 7, 8, 9, 10, 11, 13, 15]\n"
     ]
    }
   ],
   "source": [
    "num1 = int(input('Write the 1st natural number: '))\n",
    "num2 = int(input('Write the 2nd natural number: '))\n",
    "\n",
    "joined_list.clear()\n",
    "\n",
    "list1 = [l for l in range(num1 + 1)]\n",
    "list2 = [m for m in range(num2 + 1)]\n",
    "#print(list1)\n",
    "#print(list2)\n",
    "for i in list1:\n",
    "    if i % 2 != 0:\n",
    "        joined_list.append(i)\n",
    "for j in list2:\n",
    "    if j % 2 == 0:\n",
    "        joined_list.append(j)\n",
    "joined_list.sort()\n",
    "print(joined_list)"
   ]
  },
  {
   "cell_type": "markdown",
   "metadata": {},
   "source": [
    "## Cards sum"
   ]
  },
  {
   "cell_type": "code",
   "execution_count": 64,
   "metadata": {},
   "outputs": [
    {
     "data": {
      "text/plain": [
       "2"
      ]
     },
     "execution_count": 64,
     "metadata": {},
     "output_type": "execute_result"
    }
   ],
   "source": [
    "current_hand = [2,3,4,10,'Q',5]\n",
    "\n",
    "plus = [2,3,4,5,6]\n",
    "minus = [10, 'J', 'K', 'Q', 'A']\n",
    "zero = [7,8,9,0]\n",
    "\n",
    "cards_sum = 0\n",
    "for i in current_hand:\n",
    "    for j in plus:\n",
    "        if i == j:\n",
    "            cards_sum += 1\n",
    "    for k in minus:\n",
    "        if i == k:\n",
    "            cards_sum -= 1\n",
    "cards_sum"
   ]
  },
  {
   "cell_type": "markdown",
   "metadata": {},
   "source": [
    "#### У Ильи решение через словари и list_comprehension"
   ]
  },
  {
   "cell_type": "markdown",
   "metadata": {},
   "source": [
    "## Defining flash"
   ]
  },
  {
   "cell_type": "code",
   "execution_count": 48,
   "metadata": {},
   "outputs": [
    {
     "name": "stdout",
     "output_type": "stream",
     "text": [
      "No Flush!\n"
     ]
    }
   ],
   "source": [
    "table_cards = [\"A_S\", \"J_H\", \"7_D\", \"8_D\", \"10_D\"]\n",
    "hand_cards = [\"J_D\", \"3_D\"]\n",
    "overall_cards = table_cards + hand_cards\n",
    "\n",
    "#nominals = {'2', '3', '4', '5', '6', '7', '8', '9', '10', 'J', 'K', 'Q', 'A'}\n",
    "\n",
    "suits = dict(S=0, H=0, D=0, C=0)\n",
    "#card_suit = list() \n",
    "for m in overall_cards:\n",
    "    for k,v in suits.items():\n",
    "        if m.split('_')[1] == k:\n",
    "            suits[k] += 1 \n",
    "vals = sorted(suits.values())\n",
    "#print(vals)\n",
    "#print(type(vals))\n",
    "if vals[3] > 4:\n",
    "    print('Flush!')\n",
    "else:\n",
    "    print('No Flush!')    \n",
    "    \n",
    "#print(card_suit)\n",
    "#print(overall_cards)\n"
   ]
  },
  {
   "cell_type": "markdown",
   "metadata": {},
   "source": [
    "### Домашнее задание: угадай число\n",
    "Реализуйте одну классическую и достаточно простую игру: \"угадай число\".\n",
    "\n",
    "Компьютер загадывает число от 1 до 50 и даёт 6 попыток пользователю, чтобы тот смог угадать загаданное число. Когда пользователь вводит число, компьютер проверяет угадано ли число и если не угадано, то сообщает пользователю меньше ли или больше загаданое число. Если пользователь угадал - то сообщает о том, что число отгадано.\n",
    "\n",
    "Подсказка: для \"загадывания\" числа используйте модуль random: импортируйте его и для генерации (загадывания) числа вызовите метод random.randint(1, 50)."
   ]
  },
  {
   "cell_type": "markdown",
   "metadata": {},
   "source": [
    "### ДЗ \"Камень-ножницы-бумага\"\n",
    "Написать игру в \"камень-ножницы-бумага\" против компьютера.\n",
    "\n",
    "Запустить игру в бесконечном цикле. Запросить ввод от пользователя (R - камень, S - ножницы, P - бумага). Сгенерировать случайный выбор компьютера. Вывести выбор компьютера. Определить победителя, выведя соответствующую информацию. Спросить пользователя - хочет ли он повторить игру. Если хочет - повторить, не хочет - выйти из цикла."
   ]
  },
  {
   "cell_type": "code",
   "execution_count": null,
   "metadata": {},
   "outputs": [],
   "source": []
  }
 ],
 "metadata": {
  "kernelspec": {
   "display_name": "Python 3",
   "language": "python",
   "name": "python3"
  },
  "language_info": {
   "codemirror_mode": {
    "name": "ipython",
    "version": 3
   },
   "file_extension": ".py",
   "mimetype": "text/x-python",
   "name": "python",
   "nbconvert_exporter": "python",
   "pygments_lexer": "ipython3",
   "version": "3.8.3"
  }
 },
 "nbformat": 4,
 "nbformat_minor": 4
}
