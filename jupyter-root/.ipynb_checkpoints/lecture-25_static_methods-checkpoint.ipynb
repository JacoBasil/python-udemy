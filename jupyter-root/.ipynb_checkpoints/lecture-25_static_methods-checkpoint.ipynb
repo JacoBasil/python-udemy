{
 "cells": [
  {
   "cell_type": "markdown",
   "metadata": {},
   "source": [
    "## Статические методы"
   ]
  },
  {
   "cell_type": "code",
   "execution_count": 3,
   "metadata": {
    "ExecuteTime": {
     "end_time": "2020-11-02T22:52:52.368701Z",
     "start_time": "2020-11-02T22:52:52.364690Z"
    }
   },
   "outputs": [],
   "source": [
    "# Сидят внутри класса, но для вызова необязательно иметь инстанцию класса\n",
    "class StaticTest:\n",
    "    x = 1"
   ]
  },
  {
   "cell_type": "markdown",
   "metadata": {},
   "source": [
    "#### Статические аттрибуты можно вызывать как через инстанцию класса, как и название самого класса"
   ]
  },
  {
   "cell_type": "code",
   "execution_count": 4,
   "metadata": {
    "ExecuteTime": {
     "end_time": "2020-11-02T22:52:52.568345Z",
     "start_time": "2020-11-02T22:52:52.565362Z"
    }
   },
   "outputs": [],
   "source": [
    "t1 = StaticTest()"
   ]
  },
  {
   "cell_type": "code",
   "execution_count": 5,
   "metadata": {},
   "outputs": [
    {
     "name": "stdout",
     "output_type": "stream",
     "text": [
      "Via instance: 1\n",
      "Via class: 1\n"
     ]
    }
   ],
   "source": [
    "print(f'Via instance: {t1.x}')\n",
    "print(f'Via class: {StaticTest.x}')"
   ]
  },
  {
   "cell_type": "code",
   "execution_count": 9,
   "metadata": {},
   "outputs": [],
   "source": [
    "t1.x = 2"
   ]
  },
  {
   "cell_type": "markdown",
   "metadata": {},
   "source": [
    "#### Когда мы создаем инстанцию, создается экземпляр аттрибута, который отличный от того же аттрибута, который прописан в самом классе. То есть значения t1.x и StaticTest.x будут вообще говоря разные"
   ]
  },
  {
   "cell_type": "code",
   "execution_count": 8,
   "metadata": {},
   "outputs": [
    {
     "name": "stdout",
     "output_type": "stream",
     "text": [
      "Via instance: 2\n",
      "Via class: 1\n"
     ]
    }
   ],
   "source": [
    "print(f'Via instance: {t1.x}')\n",
    "print(f'Via class: {StaticTest.x}')"
   ]
  },
  {
   "cell_type": "code",
   "execution_count": 10,
   "metadata": {},
   "outputs": [],
   "source": [
    "StaticTest.x = 3"
   ]
  },
  {
   "cell_type": "code",
   "execution_count": 11,
   "metadata": {},
   "outputs": [
    {
     "name": "stdout",
     "output_type": "stream",
     "text": [
      "Via instance: 2\n",
      "Via class: 3\n"
     ]
    }
   ],
   "source": [
    "print(f'Via instance: {t1.x}')\n",
    "print(f'Via class: {StaticTest.x}')"
   ]
  },
  {
   "cell_type": "code",
   "execution_count": null,
   "metadata": {},
   "outputs": [],
   "source": []
  }
 ],
 "metadata": {
  "kernelspec": {
   "display_name": "Python 3",
   "language": "python",
   "name": "python3"
  },
  "language_info": {
   "codemirror_mode": {
    "name": "ipython",
    "version": 3
   },
   "file_extension": ".py",
   "mimetype": "text/x-python",
   "name": "python",
   "nbconvert_exporter": "python",
   "pygments_lexer": "ipython3",
   "version": "3.7.6"
  }
 },
 "nbformat": 4,
 "nbformat_minor": 4
}
