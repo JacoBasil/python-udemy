{
 "cells": [
  {
   "cell_type": "markdown",
   "id": "621a209b-f78a-479e-a609-49ff410f2bfb",
   "metadata": {},
   "source": [
    "## HW-1 ФИО"
   ]
  },
  {
   "cell_type": "code",
   "execution_count": 45,
   "id": "01401909-51c1-4b82-a13f-900f31ee05bd",
   "metadata": {},
   "outputs": [],
   "source": [
    "class Name():\n",
    "    \n",
    "    def __init__(self, first_name, last_name):\n",
    "        self.first_name = first_name[0].upper() + first_name[1:].lower()\n",
    "        self.last_name = last_name[0].upper() + last_name[1:].lower()\n",
    "        self.initials = first_name[0].upper() + '.' + last_name[0].upper()\n",
    "        self.full_name = self.first_name + ' ' + self.last_name"
   ]
  },
  {
   "cell_type": "code",
   "execution_count": 46,
   "id": "f04e18cc-4c75-4bd1-b3b9-4c9859d7f60c",
   "metadata": {},
   "outputs": [],
   "source": [
    "c = Name('jOhN', 'teRRy')"
   ]
  },
  {
   "cell_type": "code",
   "execution_count": 47,
   "id": "3065d4d3-9a3d-48f0-92c6-821cc2c26753",
   "metadata": {},
   "outputs": [
    {
     "data": {
      "text/plain": [
       "'John'"
      ]
     },
     "execution_count": 47,
     "metadata": {},
     "output_type": "execute_result"
    }
   ],
   "source": [
    "c.first_name"
   ]
  },
  {
   "cell_type": "code",
   "execution_count": 48,
   "id": "c87ac54d-d7eb-4024-a418-b16ff059887e",
   "metadata": {},
   "outputs": [
    {
     "data": {
      "text/plain": [
       "'J.T'"
      ]
     },
     "execution_count": 48,
     "metadata": {},
     "output_type": "execute_result"
    }
   ],
   "source": [
    "c.initials"
   ]
  },
  {
   "cell_type": "code",
   "execution_count": 49,
   "id": "b9babc6c-253e-48df-991a-1a4287056934",
   "metadata": {},
   "outputs": [
    {
     "data": {
      "text/plain": [
       "'Terry'"
      ]
     },
     "execution_count": 49,
     "metadata": {},
     "output_type": "execute_result"
    }
   ],
   "source": [
    "c.last_name"
   ]
  },
  {
   "cell_type": "code",
   "execution_count": 50,
   "id": "714b5162-f2f8-4b15-9d6b-67dfc08a1265",
   "metadata": {},
   "outputs": [
    {
     "data": {
      "text/plain": [
       "'John Terry'"
      ]
     },
     "execution_count": 50,
     "metadata": {},
     "output_type": "execute_result"
    }
   ],
   "source": [
    "c.full_name"
   ]
  },
  {
   "cell_type": "code",
   "execution_count": null,
   "id": "f9dafece-135c-4894-94cc-0607ba4d6bf8",
   "metadata": {},
   "outputs": [],
   "source": []
  }
 ],
 "metadata": {
  "kernelspec": {
   "display_name": "Python 3",
   "language": "python",
   "name": "python3"
  },
  "language_info": {
   "codemirror_mode": {
    "name": "ipython",
    "version": 3
   },
   "file_extension": ".py",
   "mimetype": "text/x-python",
   "name": "python",
   "nbconvert_exporter": "python",
   "pygments_lexer": "ipython3",
   "version": "3.8.8"
  }
 },
 "nbformat": 4,
 "nbformat_minor": 5
}
