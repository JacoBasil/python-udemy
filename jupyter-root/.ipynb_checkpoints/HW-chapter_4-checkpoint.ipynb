{
 "cells": [
  {
   "cell_type": "markdown",
   "metadata": {},
   "source": [
    "### Кто выстрелил быстрее?"
   ]
  },
  {
   "cell_type": "code",
   "execution_count": 67,
   "metadata": {},
   "outputs": [],
   "source": [
    "def whos_first(p1, p2):\n",
    "    if p1.index(\"B\") > p2.index(\"B\"):\n",
    "        return \"p2\"\n",
    "    elif p1.index(\"B\") < p2.index(\"B\"):\n",
    "        return \"p1\"\n",
    "    else:\n",
    "        return \"tie\"\n",
    "#    return [p1.index(\"B\"), p2.index(\"B\")]     "
   ]
  },
  {
   "cell_type": "code",
   "execution_count": 68,
   "metadata": {},
   "outputs": [],
   "source": [
    "p1 = \"        Bang      \"\n",
    "p2 = \"           Bang   \""
   ]
  },
  {
   "cell_type": "code",
   "execution_count": 69,
   "metadata": {},
   "outputs": [
    {
     "data": {
      "text/plain": [
       "'p1'"
      ]
     },
     "execution_count": 69,
     "metadata": {},
     "output_type": "execute_result"
    }
   ],
   "source": [
    "whos_first(p1,p2)"
   ]
  },
  {
   "cell_type": "markdown",
   "metadata": {},
   "source": [
    "### Hanoi towers"
   ]
  },
  {
   "cell_type": "code",
   "execution_count": 70,
   "metadata": {},
   "outputs": [],
   "source": [
    "def solve_hanoi_tower(discs):\n",
    "    if discs != 0:\n",
    "        summ = 0\n",
    "        for x in range(1, discs+1):\n",
    "            summ = summ * 2 + 1\n",
    "        return summ\n",
    "    else:\n",
    "        return 0\n",
    "\n",
    "    #Решение проще\n",
    "    #return 2**discs -1"
   ]
  },
  {
   "cell_type": "code",
   "execution_count": 71,
   "metadata": {},
   "outputs": [
    {
     "data": {
      "text/plain": [
       "1"
      ]
     },
     "execution_count": 71,
     "metadata": {},
     "output_type": "execute_result"
    }
   ],
   "source": [
    "solve_hanoi_tower(1)"
   ]
  },
  {
   "cell_type": "markdown",
   "metadata": {},
   "source": [
    "### Без дуплетов\n",
    "Если есть дуплеты, результат обнуляется"
   ]
  },
  {
   "cell_type": "code",
   "execution_count": 72,
   "metadata": {},
   "outputs": [],
   "source": [
    "def calc_dice_scores(lst):\n",
    "    suma = 0\n",
    "    for m, n in lst:\n",
    "        if m != n:\n",
    "            suma += n + m\n",
    "    if all(n!=m for (n,m) in lst):        \n",
    "        return suma\n",
    "    else:\n",
    "        return 0"
   ]
  },
  {
   "cell_type": "code",
   "execution_count": 73,
   "metadata": {},
   "outputs": [
    {
     "data": {
      "text/plain": [
       "19"
      ]
     },
     "execution_count": 73,
     "metadata": {},
     "output_type": "execute_result"
    }
   ],
   "source": [
    "calc_dice_scores([(3,2), (2,5), (4,3)])"
   ]
  },
  {
   "cell_type": "markdown",
   "metadata": {},
   "source": [
    "### Мини-судоку\n",
    "Если есть одинаковые цифры, то выводим True, если нет то False"
   ]
  },
  {
   "cell_type": "code",
   "execution_count": 135,
   "metadata": {},
   "outputs": [],
   "source": [
    "def any_duplicates(square):\n",
    "    list_dim1 = list()\n",
    "    for row in square:\n",
    "        list_dim1 += row\n",
    "    #print([list_dim1.count(x) >=2 for x in list_dim1])\n",
    "    return any([list_dim1.count(x) >=2 for x in list_dim1])"
   ]
  },
  {
   "cell_type": "code",
   "execution_count": 136,
   "metadata": {},
   "outputs": [
    {
     "data": {
      "text/plain": [
       "True"
      ]
     },
     "execution_count": 136,
     "metadata": {},
     "output_type": "execute_result"
    }
   ],
   "source": [
    "a = [[1,2,3],[7,5,6],[7,8,9]]\n",
    "any_duplicates(a)"
   ]
  },
  {
   "cell_type": "markdown",
   "metadata": {},
   "source": [
    "### Мини-игра в палочки"
   ]
  },
  {
   "cell_type": "code",
   "execution_count": 9,
   "metadata": {},
   "outputs": [],
   "source": [
    "import sys\n",
    "def delete_stics(number, left_sticks):\n",
    "    if left_sticks - number > 0:\n",
    "        print(f'you have taken {number} sticks and {left_sticks - number} sticks is left')\n",
    "    return left_sticks - number\n",
    "\n",
    "def win_define(player, left_sticks, someone_wins):\n",
    "    if left_sticks <= 0:\n",
    "        someone_wins = True\n",
    "        if player == 'player1':\n",
    "            print('Player2 wins!!! Congratulations!')\n",
    "        if player == 'player2':\n",
    "            print('Player1 wins!!! Congratulations!')\n",
    "    elif left_sticks > 0: \n",
    "        someone_wins = False\n",
    "    return someone_wins\n",
    "\n",
    "def start_game():\n",
    "    print(\"Input sticks amount...\")\n",
    "    sticks_amount = float(input('Write a natural number (Maximum 100): '))\n",
    "\n",
    "    if sticks_amount.is_integer() and sticks_amount > 0 and sticks_amount < 100:\n",
    "        sticks_amount = int(sticks_amount)\n",
    "    else:\n",
    "        print(\"Write a correct number!!!\")\n",
    "        sys.exit()\n",
    "    return sticks_amount"
   ]
  },
  {
   "cell_type": "code",
   "execution_count": null,
   "metadata": {},
   "outputs": [
    {
     "name": "stdout",
     "output_type": "stream",
     "text": [
      "Input sticks amount...\n"
     ]
    }
   ],
   "source": [
    "sticks_amount = start_game()\n",
    "        \n",
    "someone_wins = False\n",
    "while not someone_wins:\n",
    "    print(\"First player move...\")\n",
    "    p1 = float(input('Write how many sticks you want take? (Maximum 3): '))\n",
    "    if p1.is_integer():\n",
    "        p1 = int(p1)\n",
    "    else:\n",
    "        print(\"Write a correct number!!!\")\n",
    "        continue\n",
    "    \n",
    "    if p1 <= 3 and p1 > 0:\n",
    "        sticks_amount = delete_stics(p1, sticks_amount)\n",
    "        someone_wins = win_define('player1', sticks_amount, someone_wins)\n",
    "        \n",
    "        if someone_wins:\n",
    "            print('Wanna play next?')\n",
    "            answer = input(\"y/n\")\n",
    "            if answer == \"y\":\n",
    "                someone_wins = False\n",
    "                sticks_amount = start_game()\n",
    "                continue\n",
    "            elif answer == \"n\":\n",
    "                break\n",
    "                \n",
    "    else:\n",
    "        print(\"Write a correct number!!!\")     \n",
    "        \n",
    "    print(\"Second player move...\")\n",
    "    p2 = float(input('Write how many sticks you want take? (Maximum 3): '))\n",
    "    \n",
    "    if p2.is_integer():\n",
    "        p2 = int(p2)\n",
    "    else:\n",
    "        print(\"Write a correct number!!!\")  \n",
    "        continue\n",
    "        \n",
    "    if p2 <= 3 and p2 > 0:\n",
    "        sticks_amount = delete_stics(p2, sticks_amount)\n",
    "        someone_wins = win_define('player2', sticks_amount, someone_wins)\n",
    "        \n",
    "        if someone_wins:\n",
    "            print('Wanna play next?')\n",
    "            answer = input(\"y/n\")\n",
    "            if answer == \"y\":\n",
    "                someone_wins = False\n",
    "                sticks_amount = start_game()\n",
    "                continue\n",
    "            elif answer == \"n\":\n",
    "                break\n",
    "                \n",
    "    else:\n",
    "        print(\"Write a correct number!!!\")   \n",
    "        "
   ]
  },
  {
   "cell_type": "code",
   "execution_count": null,
   "metadata": {},
   "outputs": [],
   "source": []
  }
 ],
 "metadata": {
  "kernelspec": {
   "display_name": "Python 3",
   "language": "python",
   "name": "python3"
  },
  "language_info": {
   "codemirror_mode": {
    "name": "ipython",
    "version": 3
   },
   "file_extension": ".py",
   "mimetype": "text/x-python",
   "name": "python",
   "nbconvert_exporter": "python",
   "pygments_lexer": "ipython3",
   "version": "3.7.6"
  }
 },
 "nbformat": 4,
 "nbformat_minor": 4
}
